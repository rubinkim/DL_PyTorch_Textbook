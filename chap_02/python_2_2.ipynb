{
 "cells": [
  {
   "cell_type": "code",
   "execution_count": 1,
   "metadata": {},
   "outputs": [],
   "source": [
    "import numpy as np\n",
    "import pandas as pd\n",
    "import matplotlib.pyplot as plt\n",
    "import seaborn as sns\n",
    "\n",
    "import torch\n",
    "import torch.nn as nn\n",
    "\n",
    "%matplotlib inline"
   ]
  },
  {
   "attachments": {},
   "cell_type": "markdown",
   "metadata": {},
   "source": [
    "##### np.stack vs. np.concatenate"
   ]
  },
  {
   "cell_type": "code",
   "execution_count": 6,
   "metadata": {},
   "outputs": [
    {
     "name": "stdout",
     "output_type": "stream",
     "text": [
      "[[1 2]\n",
      " [3 4]]\n",
      "\n",
      "[[5 6]\n",
      " [7 8]]\n",
      "\n",
      "[[ 9 10]\n",
      " [11 12]]\n"
     ]
    }
   ],
   "source": [
    "a = np.array([[1,2],[3,4]])\n",
    "b = np.array([[5,6],[7,8]])\n",
    "c = np.array([[9,10],[11,12]])\n",
    "\n",
    "print(a)\n",
    "print()\n",
    "print(b)\n",
    "print()\n",
    "print(c)"
   ]
  },
  {
   "cell_type": "code",
   "execution_count": 9,
   "metadata": {},
   "outputs": [
    {
     "name": "stdout",
     "output_type": "stream",
     "text": [
      "abc_concatenate_0의 shape : (6, 2)\n",
      "[[ 1  2]\n",
      " [ 3  4]\n",
      " [ 5  6]\n",
      " [ 7  8]\n",
      " [ 9 10]\n",
      " [11 12]]\n",
      "\n",
      "abc_stack_0의 shape : (3, 2, 2)\n",
      "[[[ 1  2]\n",
      "  [ 3  4]]\n",
      "\n",
      " [[ 5  6]\n",
      "  [ 7  8]]\n",
      "\n",
      " [[ 9 10]\n",
      "  [11 12]]]\n"
     ]
    }
   ],
   "source": [
    "abc_concat_0 = np.concatenate((a, b,c), axis=0)\n",
    "abc_stack_0 = np.stack((a, b, c), axis=0)\n",
    "\n",
    "print(f\"abc_concatenate_0의 shape : {abc_concat_0.shape}\")\n",
    "print(abc_concat_0)\n",
    "print()\n",
    "print(f\"abc_stack_0의 shape : {abc_stack_0.shape}\")\n",
    "print(abc_stack_0)"
   ]
  },
  {
   "cell_type": "code",
   "execution_count": 10,
   "metadata": {},
   "outputs": [
    {
     "name": "stdout",
     "output_type": "stream",
     "text": [
      "abc_concat_1의 shape : (2, 6)\n",
      "[[ 1  2  5  6  9 10]\n",
      " [ 3  4  7  8 11 12]]\n",
      "\n",
      "abc_stack_1의 shape : (2, 3, 2)\n",
      "[[[ 1  2]\n",
      "  [ 5  6]\n",
      "  [ 9 10]]\n",
      "\n",
      " [[ 3  4]\n",
      "  [ 7  8]\n",
      "  [11 12]]]\n"
     ]
    }
   ],
   "source": [
    "abc_concat_1 = np.concatenate((a, b, c), axis=1)\n",
    "abc_stack_1 = np.stack((a, b, c), axis=1)\n",
    "\n",
    "print(f\"abc_concat_1의 shape : {abc_concat_1.shape}\")\n",
    "print(abc_concat_1)\n",
    "print()\n",
    "print(f\"abc_stack_1의 shape : {abc_stack_1.shape}\")\n",
    "print(abc_stack_1)"
   ]
  }
 ],
 "metadata": {
  "kernelspec": {
   "display_name": "tf_gpu",
   "language": "python",
   "name": "python3"
  },
  "language_info": {
   "codemirror_mode": {
    "name": "ipython",
    "version": 3
   },
   "file_extension": ".py",
   "mimetype": "text/x-python",
   "name": "python",
   "nbconvert_exporter": "python",
   "pygments_lexer": "ipython3",
   "version": "3.9.13"
  },
  "orig_nbformat": 4
 },
 "nbformat": 4,
 "nbformat_minor": 2
}
