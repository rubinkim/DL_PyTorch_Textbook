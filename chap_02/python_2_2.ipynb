{
 "cells": [
  {
   "cell_type": "code",
   "execution_count": 1,
   "metadata": {},
   "outputs": [],
   "source": [
    "import numpy as np\n",
    "import pandas as pd\n",
    "import matplotlib.pyplot as plt\n",
    "import seaborn as sns\n",
    "\n",
    "import torch\n",
    "import torch.nn as nn\n",
    "\n",
    "%matplotlib inline"
   ]
  },
  {
   "attachments": {},
   "cell_type": "markdown",
   "metadata": {},
   "source": [
    "##### np.stack vs. np.concatenate"
   ]
  },
  {
   "cell_type": "code",
   "execution_count": 2,
   "metadata": {},
   "outputs": [
    {
     "name": "stdout",
     "output_type": "stream",
     "text": [
      "[[1 2]\n",
      " [3 4]]\n",
      "\n",
      "[[5 6]\n",
      " [7 8]]\n",
      "\n",
      "[[ 9 10]\n",
      " [11 12]]\n"
     ]
    }
   ],
   "source": [
    "a = np.array([[1,2],[3,4]])\n",
    "b = np.array([[5,6],[7,8]])\n",
    "c = np.array([[9,10],[11,12]])\n",
    "\n",
    "print(a)\n",
    "print()\n",
    "print(b)\n",
    "print()\n",
    "print(c)"
   ]
  },
  {
   "cell_type": "code",
   "execution_count": 3,
   "metadata": {},
   "outputs": [
    {
     "name": "stdout",
     "output_type": "stream",
     "text": [
      "abc_concatenate_0의 shape : (6, 2)\n",
      "[[ 1  2]\n",
      " [ 3  4]\n",
      " [ 5  6]\n",
      " [ 7  8]\n",
      " [ 9 10]\n",
      " [11 12]]\n",
      "\n",
      "abc_stack_0의 shape : (3, 2, 2)\n",
      "[[[ 1  2]\n",
      "  [ 3  4]]\n",
      "\n",
      " [[ 5  6]\n",
      "  [ 7  8]]\n",
      "\n",
      " [[ 9 10]\n",
      "  [11 12]]]\n"
     ]
    }
   ],
   "source": [
    "abc_concat_0 = np.concatenate((a, b,c), axis=0)\n",
    "abc_stack_0 = np.stack((a, b, c), axis=0)\n",
    "\n",
    "print(f\"abc_concatenate_0의 shape : {abc_concat_0.shape}\")\n",
    "print(abc_concat_0)\n",
    "print()\n",
    "print(f\"abc_stack_0의 shape : {abc_stack_0.shape}\")\n",
    "print(abc_stack_0)"
   ]
  },
  {
   "cell_type": "code",
   "execution_count": 4,
   "metadata": {},
   "outputs": [
    {
     "name": "stdout",
     "output_type": "stream",
     "text": [
      "abc_concat_1의 shape : (2, 6)\n",
      "[[ 1  2  5  6  9 10]\n",
      " [ 3  4  7  8 11 12]]\n",
      "\n",
      "abc_stack_1의 shape : (2, 3, 2)\n",
      "[[[ 1  2]\n",
      "  [ 5  6]\n",
      "  [ 9 10]]\n",
      "\n",
      " [[ 3  4]\n",
      "  [ 7  8]\n",
      "  [11 12]]]\n"
     ]
    }
   ],
   "source": [
    "abc_concat_1 = np.concatenate((a, b, c), axis=1)\n",
    "abc_stack_1 = np.stack((a, b, c), axis=1)\n",
    "\n",
    "print(f\"abc_concat_1의 shape : {abc_concat_1.shape}\")\n",
    "print(abc_concat_1)\n",
    "print()\n",
    "print(f\"abc_stack_1의 shape : {abc_stack_1.shape}\")\n",
    "print(abc_stack_1)"
   ]
  },
  {
   "attachments": {},
   "cell_type": "markdown",
   "metadata": {},
   "source": [
    "##### np.concatenate는 서로 다른 차원의 array들끼리 합치는게 가능하지만 np.stack은 서로 차원이 다른 배열끼리는 합쳐지지 않습니다."
   ]
  },
  {
   "cell_type": "code",
   "execution_count": 12,
   "metadata": {},
   "outputs": [
    {
     "name": "stdout",
     "output_type": "stream",
     "text": [
      "d의 shape : (3, 2)\n",
      "[[13 14]\n",
      " [15 16]\n",
      " [17 18]]\n"
     ]
    }
   ],
   "source": [
    "d = np.array([[13,14],[15,16],[17,18]])\n",
    "\n",
    "print(f\"d의 shape : {d.shape}\")\n",
    "print(d)"
   ]
  },
  {
   "cell_type": "code",
   "execution_count": 14,
   "metadata": {},
   "outputs": [
    {
     "name": "stdout",
     "output_type": "stream",
     "text": [
      "abcd_concat_0의 shape : (9, 2)\n",
      "[[ 1  2]\n",
      " [ 3  4]\n",
      " [ 5  6]\n",
      " [ 7  8]\n",
      " [ 9 10]\n",
      " [11 12]\n",
      " [13 14]\n",
      " [15 16]\n",
      " [17 18]]\n"
     ]
    },
    {
     "ename": "ValueError",
     "evalue": "all the input array dimensions except for the concatenation axis must match exactly, but along dimension 0, the array at index 0 has size 2 and the array at index 3 has size 3",
     "output_type": "error",
     "traceback": [
      "\u001b[1;31m---------------------------------------------------------------------------\u001b[0m",
      "\u001b[1;31mValueError\u001b[0m                                Traceback (most recent call last)",
      "\u001b[1;32me:\\딥러닝파이토치교과서\\chap_02\\python_2_2.ipynb Cell 8\u001b[0m in \u001b[0;36m<cell line: 6>\u001b[1;34m()\u001b[0m\n\u001b[0;32m      <a href='vscode-notebook-cell:/e%3A/%EB%94%A5%EB%9F%AC%EB%8B%9D%ED%8C%8C%EC%9D%B4%ED%86%A0%EC%B9%98%EA%B5%90%EA%B3%BC%EC%84%9C/chap_02/python_2_2.ipynb#W6sZmlsZQ%3D%3D?line=2'>3</a>\u001b[0m \u001b[39mprint\u001b[39m(\u001b[39mf\u001b[39m\u001b[39m\"\u001b[39m\u001b[39mabcd_concat_0의 shape : \u001b[39m\u001b[39m{\u001b[39;00mabcd_concat_0\u001b[39m.\u001b[39mshape\u001b[39m}\u001b[39;00m\u001b[39m\"\u001b[39m)\n\u001b[0;32m      <a href='vscode-notebook-cell:/e%3A/%EB%94%A5%EB%9F%AC%EB%8B%9D%ED%8C%8C%EC%9D%B4%ED%86%A0%EC%B9%98%EA%B5%90%EA%B3%BC%EC%84%9C/chap_02/python_2_2.ipynb#W6sZmlsZQ%3D%3D?line=3'>4</a>\u001b[0m \u001b[39mprint\u001b[39m(abcd_concat_0)\n\u001b[1;32m----> <a href='vscode-notebook-cell:/e%3A/%EB%94%A5%EB%9F%AC%EB%8B%9D%ED%8C%8C%EC%9D%B4%ED%86%A0%EC%B9%98%EA%B5%90%EA%B3%BC%EC%84%9C/chap_02/python_2_2.ipynb#W6sZmlsZQ%3D%3D?line=5'>6</a>\u001b[0m abcd_concat_1 \u001b[39m=\u001b[39m np\u001b[39m.\u001b[39;49mconcatenate((a,b,c,d), axis\u001b[39m=\u001b[39;49m\u001b[39m1\u001b[39;49m)\n",
      "File \u001b[1;32m<__array_function__ internals>:200\u001b[0m, in \u001b[0;36mconcatenate\u001b[1;34m(*args, **kwargs)\u001b[0m\n",
      "\u001b[1;31mValueError\u001b[0m: all the input array dimensions except for the concatenation axis must match exactly, but along dimension 0, the array at index 0 has size 2 and the array at index 3 has size 3"
     ]
    }
   ],
   "source": [
    "abcd_concat_0 = np.concatenate((a,b,c,d), axis=0)\n",
    "\n",
    "print(f\"abcd_concat_0의 shape : {abcd_concat_0.shape}\")\n",
    "print(abcd_concat_0)\n",
    "\n",
    "abcd_concat_1 = np.concatenate((a,b,c,d), axis=1)"
   ]
  },
  {
   "cell_type": "code",
   "execution_count": 16,
   "metadata": {},
   "outputs": [
    {
     "name": "stdout",
     "output_type": "stream",
     "text": [
      "car_stack_1의 shape : (4, 6)\n",
      "[[12  0  2  2  2  1]\n",
      " [23  3  4  4  3  0]\n",
      " [10  1  4  1  2  0]\n",
      " [ 9  2  2  3  2  1]]\n"
     ]
    }
   ],
   "source": [
    "price = np.array([12,23,10,9])\n",
    "maint = np.array([0,3,1,2])\n",
    "doors = np.array([2,4,4,2])\n",
    "person = np.array([2,4,1,3])\n",
    "lug_capacity = np.array([2,3,2,2])\n",
    "safety = np.array([1,0,0,1])\n",
    "\n",
    "car_stack_1 = np.stack((price,maint,doors,person,lug_capacity,safety), axis=1)\n",
    "\n",
    "print(f\"car_stack_1의 shape : {car_stack_1.shape}\")\n",
    "print(car_stack_1)"
   ]
  }
 ],
 "metadata": {
  "kernelspec": {
   "display_name": "tf_gpu",
   "language": "python",
   "name": "python3"
  },
  "language_info": {
   "codemirror_mode": {
    "name": "ipython",
    "version": 3
   },
   "file_extension": ".py",
   "mimetype": "text/x-python",
   "name": "python",
   "nbconvert_exporter": "python",
   "pygments_lexer": "ipython3",
   "version": "3.9.13"
  },
  "orig_nbformat": 4
 },
 "nbformat": 4,
 "nbformat_minor": 2
}
