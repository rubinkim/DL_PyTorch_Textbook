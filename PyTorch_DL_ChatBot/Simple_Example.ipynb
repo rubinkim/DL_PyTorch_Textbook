{
 "cells": [
  {
   "cell_type": "code",
   "execution_count": 2,
   "metadata": {},
   "outputs": [],
   "source": [
    "import torch\n",
    "from torch.utils.data import Dataset, DataLoader"
   ]
  },
  {
   "cell_type": "code",
   "execution_count": null,
   "metadata": {},
   "outputs": [],
   "source": []
  },
  {
   "cell_type": "code",
   "execution_count": 5,
   "metadata": {},
   "outputs": [],
   "source": [
    "class CustomDataset(Dataset):\n",
    "    def __init__(self):\n",
    "        self.x_data = [[45, 92, 18, 38], [29, 81, 55, 75], [61, 26, 90, 11], [15, 44, 23, 63], [88, 14, 82, 52]]\n",
    "        self.y_data = [[93], [72], [23], [71], [55]]        \n",
    "        \n",
    "    def __len__(self):\n",
    "        return len(self.x_data)        \n",
    "    \n",
    "    def __getitem__(self, idx):\n",
    "        x = torch.FloatTensor(self.x_data[idx])\n",
    "        y = torch.FloatTensor(self.y_data[idx])\n",
    "        return x, y"
   ]
  },
  {
   "cell_type": "code",
   "execution_count": 6,
   "metadata": {},
   "outputs": [
    {
     "data": {
      "text/plain": [
       "<__main__.CustomDataset at 0x135f10c1d90>"
      ]
     },
     "execution_count": 6,
     "metadata": {},
     "output_type": "execute_result"
    }
   ],
   "source": [
    "dataset = CustomDataset()\n",
    "dataset"
   ]
  },
  {
   "cell_type": "code",
   "execution_count": 13,
   "metadata": {},
   "outputs": [
    {
     "name": "stdout",
     "output_type": "stream",
     "text": [
      "5\n",
      "\n",
      "{93.0: tensor([45., 92., 18., 38.]), 72.0: tensor([29., 81., 55., 75.]), 23.0: tensor([61., 26., 90., 11.]), 71.0: tensor([15., 44., 23., 63.]), 55.0: tensor([88., 14., 82., 52.])}\n"
     ]
    }
   ],
   "source": [
    "print(len(dataset))\n",
    "print()\n",
    "\n",
    "dataset_dict = {}\n",
    "for input, label in dataset:\n",
    "    dataset_dict[label.item()] = input\n",
    "    \n",
    "print(dataset_dict)"
   ]
  },
  {
   "cell_type": "code",
   "execution_count": 7,
   "metadata": {},
   "outputs": [
    {
     "data": {
      "text/plain": [
       "<torch.utils.data.dataloader.DataLoader at 0x135f10c12e0>"
      ]
     },
     "execution_count": 7,
     "metadata": {},
     "output_type": "execute_result"
    }
   ],
   "source": [
    "dataloader = DataLoader(dataset=dataset, batch_size=1, shuffle=True)\n",
    "dataloader"
   ]
  },
  {
   "cell_type": "code",
   "execution_count": 8,
   "metadata": {},
   "outputs": [
    {
     "name": "stdout",
     "output_type": "stream",
     "text": [
      "input : tensor([[88., 14., 82., 52.]]),  label : tensor([[55.]])\n",
      "input : tensor([[61., 26., 90., 11.]]),  label : tensor([[23.]])\n",
      "input : tensor([[29., 81., 55., 75.]]),  label : tensor([[72.]])\n",
      "input : tensor([[15., 44., 23., 63.]]),  label : tensor([[71.]])\n",
      "input : tensor([[45., 92., 18., 38.]]),  label : tensor([[93.]])\n"
     ]
    }
   ],
   "source": [
    "for input, label in dataloader:\n",
    "    print(f\"input : {input},  label : {label}\")"
   ]
  }
 ],
 "metadata": {
  "kernelspec": {
   "display_name": "tf_gpu",
   "language": "python",
   "name": "python3"
  },
  "language_info": {
   "codemirror_mode": {
    "name": "ipython",
    "version": 3
   },
   "file_extension": ".py",
   "mimetype": "text/x-python",
   "name": "python",
   "nbconvert_exporter": "python",
   "pygments_lexer": "ipython3",
   "version": "3.9.13"
  },
  "orig_nbformat": 4
 },
 "nbformat": 4,
 "nbformat_minor": 2
}
