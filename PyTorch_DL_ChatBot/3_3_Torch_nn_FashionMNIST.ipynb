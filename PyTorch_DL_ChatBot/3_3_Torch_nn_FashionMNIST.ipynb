{
 "cells": [
  {
   "cell_type": "code",
   "execution_count": 1,
   "metadata": {},
   "outputs": [],
   "source": [
    "import os\n",
    "import torch\n",
    "from torch import nn\n",
    "from torch.utils.data import DataLoader\n",
    "from torchvision import datasets, transforms"
   ]
  },
  {
   "cell_type": "code",
   "execution_count": 2,
   "metadata": {},
   "outputs": [
    {
     "data": {
      "text/plain": [
       "'cuda'"
      ]
     },
     "execution_count": 2,
     "metadata": {},
     "output_type": "execute_result"
    }
   ],
   "source": [
    "device = 'cuda' if torch.cuda.is_available() else 'cpu'\n",
    "device"
   ]
  },
  {
   "cell_type": "code",
   "execution_count": 63,
   "metadata": {},
   "outputs": [],
   "source": [
    "class NeuralNetwork(nn.Module):\n",
    "    def __init__(self):\n",
    "        super(NeuralNetwork, self).__init__()\n",
    "        self.flatten = nn.Flatten()\n",
    "        self.linear_relu_stack = nn.Sequential(\n",
    "            nn.Linear(28*28, 512),\n",
    "            nn.BatchNorm1d(512),\n",
    "            nn.ReLU(),\n",
    "            nn.Linear(512, 256),\n",
    "            nn.BatchNorm1d(256),\n",
    "            nn.ReLU(),\n",
    "            nn.Linear(256, 64),\n",
    "            nn.BatchNorm1d(64),\n",
    "            nn.ReLU(),\n",
    "            nn.Linear(64, 10)\n",
    "        )\n",
    "        \n",
    "    def forward(self, x):\n",
    "        x = self.flatten(x)\n",
    "        logits = self.linear_relu_stack(x)\n",
    "        return logits"
   ]
  },
  {
   "cell_type": "code",
   "execution_count": 4,
   "metadata": {},
   "outputs": [],
   "source": [
    "training_data = datasets.FashionMNIST(root='data', download=True, train=True, transform=transforms.ToTensor())\n",
    "test_data = datasets.FashionMNIST(root='data', download=True, train=False, transform=transforms.ToTensor())"
   ]
  },
  {
   "cell_type": "code",
   "execution_count": 5,
   "metadata": {},
   "outputs": [],
   "source": [
    "train_dataloader = DataLoader(training_data, batch_size=64)\n",
    "test_dataloader = DataLoader(test_data, batch_size=64)"
   ]
  },
  {
   "cell_type": "code",
   "execution_count": 6,
   "metadata": {},
   "outputs": [
    {
     "data": {
      "text/plain": [
       "(938, 157, 60032, 10048)"
      ]
     },
     "execution_count": 6,
     "metadata": {},
     "output_type": "execute_result"
    }
   ],
   "source": [
    "len(train_dataloader), len(test_dataloader), 938*64, 157*64"
   ]
  },
  {
   "cell_type": "code",
   "execution_count": 7,
   "metadata": {},
   "outputs": [
    {
     "data": {
      "text/plain": [
       "(60000, 10000, 156, 157)"
      ]
     },
     "execution_count": 7,
     "metadata": {},
     "output_type": "execute_result"
    }
   ],
   "source": [
    "len(train_dataloader.dataset), len(test_dataloader.dataset), len(test_dataloader.dataset) // 64, len(test_dataloader)"
   ]
  },
  {
   "cell_type": "code",
   "execution_count": 8,
   "metadata": {},
   "outputs": [
    {
     "name": "stdout",
     "output_type": "stream",
     "text": [
      "NeuralNetwork(\n",
      "  (flatten): Flatten(start_dim=1, end_dim=-1)\n",
      "  (linear_relu_stack): Sequential(\n",
      "    (0): Linear(in_features=784, out_features=512, bias=True)\n",
      "    (1): BatchNorm1d(512, eps=1e-05, momentum=0.1, affine=True, track_running_stats=True)\n",
      "    (2): ReLU()\n",
      "    (3): Linear(in_features=512, out_features=256, bias=True)\n",
      "    (4): BatchNorm1d(256, eps=1e-05, momentum=0.1, affine=True, track_running_stats=True)\n",
      "    (5): ReLU()\n",
      "    (6): Linear(in_features=256, out_features=64, bias=True)\n",
      "    (7): BatchNorm1d(64, eps=1e-05, momentum=0.1, affine=True, track_running_stats=True)\n",
      "    (8): ReLU()\n",
      "    (9): Linear(in_features=64, out_features=10, bias=True)\n",
      "  )\n",
      ")\n"
     ]
    }
   ],
   "source": [
    "model = NeuralNetwork().to(device)\n",
    "print(model)"
   ]
  },
  {
   "cell_type": "code",
   "execution_count": 9,
   "metadata": {},
   "outputs": [],
   "source": [
    "learning_rate, epochs, batch_size = 1e-3, 5, 64"
   ]
  },
  {
   "cell_type": "code",
   "execution_count": 10,
   "metadata": {},
   "outputs": [],
   "source": [
    "loss_fn = nn.CrossEntropyLoss()\n",
    "optimizer = torch.optim.Adam(model.parameters(), lr=learning_rate)"
   ]
  },
  {
   "cell_type": "code",
   "execution_count": 11,
   "metadata": {},
   "outputs": [],
   "source": [
    "def train_loop(dataloader, model, loss_fn, optimizer):\n",
    "    size = len(dataloader.dataset)\n",
    "    for batch, (X, y) in enumerate(dataloader):\n",
    "        X, y = X.to(device), y.to(device)\n",
    "        pred = model(X)\n",
    "        loss = loss_fn(pred, y)\n",
    "        optimizer.zero_grad()\n",
    "        loss.backward()\n",
    "        optimizer.step()\n",
    "        \n",
    "        if batch % 100 == 0:\n",
    "            loss, current = loss.item(), batch * len(X)\n",
    "            print(f\"loss : {loss:>7f}  [{current:>5d} / {size:>5d}]\")"
   ]
  },
  {
   "cell_type": "code",
   "execution_count": 12,
   "metadata": {},
   "outputs": [],
   "source": [
    "def test_loop(dataloader, model, loss_fn):\n",
    "    size = len(dataloader.dataset)\n",
    "    num_batches = len(dataloader)\n",
    "    test_loss, correct = 0, 0\n",
    "    \n",
    "    with torch.no_grad():\n",
    "        for X, y in dataloader:\n",
    "            X, y = X.to(device), y.to(device)\n",
    "            pred = model(X)\n",
    "            loss = loss_fn(pred, y)\n",
    "            test_loss += loss.item()\n",
    "            correct += (pred.argmax(1) == y).type(torch.float).sum().item()\n",
    "            \n",
    "    test_loss /= num_batches\n",
    "    correct /= size\n",
    "    print(f\"Test Error :\\nAccuracy:{(100 * correct):>0.1f}%, Avg loss : {test_loss:>8f}\\n\")"
   ]
  },
  {
   "cell_type": "code",
   "execution_count": 13,
   "metadata": {},
   "outputs": [
    {
     "name": "stdout",
     "output_type": "stream",
     "text": [
      "Epoch 1\n",
      "-----------------------------------------------------------\n",
      "loss : 2.287653  [    0 / 60000]\n",
      "loss : 0.536510  [ 6400 / 60000]\n",
      "loss : 0.396541  [12800 / 60000]\n",
      "loss : 0.500711  [19200 / 60000]\n",
      "loss : 0.458946  [25600 / 60000]\n",
      "loss : 0.399245  [32000 / 60000]\n",
      "loss : 0.343323  [38400 / 60000]\n",
      "loss : 0.472996  [44800 / 60000]\n",
      "loss : 0.418914  [51200 / 60000]\n",
      "loss : 0.420621  [57600 / 60000]\n",
      "Test Error :\n",
      "Accuracy:84.7%, Avg loss : 0.412872\n",
      "\n",
      "Epoch 2\n",
      "-----------------------------------------------------------\n",
      "loss : 0.359216  [    0 / 60000]\n",
      "loss : 0.366931  [ 6400 / 60000]\n",
      "loss : 0.278142  [12800 / 60000]\n",
      "loss : 0.309142  [19200 / 60000]\n",
      "loss : 0.348983  [25600 / 60000]\n",
      "loss : 0.294572  [32000 / 60000]\n",
      "loss : 0.264177  [38400 / 60000]\n",
      "loss : 0.367755  [44800 / 60000]\n",
      "loss : 0.343789  [51200 / 60000]\n",
      "loss : 0.363483  [57600 / 60000]\n",
      "Test Error :\n",
      "Accuracy:85.8%, Avg loss : 0.387499\n",
      "\n",
      "Epoch 3\n",
      "-----------------------------------------------------------\n",
      "loss : 0.264387  [    0 / 60000]\n",
      "loss : 0.340443  [ 6400 / 60000]\n",
      "loss : 0.246059  [12800 / 60000]\n",
      "loss : 0.255439  [19200 / 60000]\n",
      "loss : 0.288291  [25600 / 60000]\n",
      "loss : 0.268737  [32000 / 60000]\n",
      "loss : 0.236077  [38400 / 60000]\n",
      "loss : 0.291012  [44800 / 60000]\n",
      "loss : 0.301171  [51200 / 60000]\n",
      "loss : 0.332665  [57600 / 60000]\n",
      "Test Error :\n",
      "Accuracy:86.6%, Avg loss : 0.369171\n",
      "\n",
      "Epoch 4\n",
      "-----------------------------------------------------------\n",
      "loss : 0.202456  [    0 / 60000]\n",
      "loss : 0.260783  [ 6400 / 60000]\n",
      "loss : 0.217262  [12800 / 60000]\n",
      "loss : 0.227795  [19200 / 60000]\n",
      "loss : 0.278369  [25600 / 60000]\n",
      "loss : 0.238898  [32000 / 60000]\n",
      "loss : 0.213876  [38400 / 60000]\n",
      "loss : 0.263988  [44800 / 60000]\n",
      "loss : 0.297274  [51200 / 60000]\n",
      "loss : 0.293064  [57600 / 60000]\n",
      "Test Error :\n",
      "Accuracy:86.7%, Avg loss : 0.372157\n",
      "\n",
      "Epoch 5\n",
      "-----------------------------------------------------------\n",
      "loss : 0.198334  [    0 / 60000]\n",
      "loss : 0.250772  [ 6400 / 60000]\n",
      "loss : 0.215793  [12800 / 60000]\n",
      "loss : 0.199665  [19200 / 60000]\n",
      "loss : 0.233704  [25600 / 60000]\n",
      "loss : 0.225492  [32000 / 60000]\n",
      "loss : 0.206088  [38400 / 60000]\n",
      "loss : 0.213136  [44800 / 60000]\n",
      "loss : 0.287289  [51200 / 60000]\n",
      "loss : 0.266164  [57600 / 60000]\n",
      "Test Error :\n",
      "Accuracy:87.0%, Avg loss : 0.371248\n",
      "\n",
      "Done!\n"
     ]
    }
   ],
   "source": [
    "for t in range(epochs):\n",
    "    print(f\"Epoch {t+1}\\n-----------------------------------------------------------\")\n",
    "    train_loop(train_dataloader, model, loss_fn, optimizer)\n",
    "    test_loop(test_dataloader, model, loss_fn)\n",
    "print(\"Done!\")"
   ]
  },
  {
   "cell_type": "code",
   "execution_count": 37,
   "metadata": {},
   "outputs": [],
   "source": [
    "import numpy as np\n",
    "import matplotlib.pyplot as plt"
   ]
  },
  {
   "cell_type": "code",
   "execution_count": 38,
   "metadata": {},
   "outputs": [
    {
     "name": "stdout",
     "output_type": "stream",
     "text": [
      "{0: 'T-Shirt', 1: 'Trouser', 2: 'Pullover', 3: 'Dress', 4: 'Coat', 5: 'Sandal', 6: 'Shirt', 7: 'Sneaker', 8: 'Bag', 9: 'Ankle Boot'}\n"
     ]
    }
   ],
   "source": [
    "labels = np.arange(10)\n",
    "tags = ['T-Shirt', 'Trouser', 'Pullover', 'Dress', 'Coat', 'Sandal', 'Shirt', 'Sneaker', 'Bag', 'Ankle Boot']\n",
    "label_tags = dict(zip(labels, tags))\n",
    "print(label_tags)"
   ]
  },
  {
   "cell_type": "code",
   "execution_count": 39,
   "metadata": {},
   "outputs": [
    {
     "data": {
      "text/plain": [
       "<Figure size 1500x1500 with 0 Axes>"
      ]
     },
     "metadata": {},
     "output_type": "display_data"
    }
   ],
   "source": [
    "columns, rows = 6, 6\n",
    "fig = plt.figure(figsize=(15, 15))"
   ]
  },
  {
   "cell_type": "code",
   "execution_count": 66,
   "metadata": {},
   "outputs": [
    {
     "ename": "TypeError",
     "evalue": "eval() takes 1 positional argument but 2 were given",
     "output_type": "error",
     "traceback": [
      "\u001b[1;31m---------------------------------------------------------------------------\u001b[0m",
      "\u001b[1;31mTypeError\u001b[0m                                 Traceback (most recent call last)",
      "\u001b[1;32me:\\딥러닝파이토치교과서\\PyTorch_DL_ChatBot\\3_3_Torch_nn_FashionMNIST.ipynb Cell 17\u001b[0m in \u001b[0;36m<cell line: 1>\u001b[1;34m()\u001b[0m\n\u001b[0;32m      <a href='vscode-notebook-cell:/e%3A/%EB%94%A5%EB%9F%AC%EB%8B%9D%ED%8C%8C%EC%9D%B4%ED%86%A0%EC%B9%98%EA%B5%90%EA%B3%BC%EC%84%9C/PyTorch_DL_ChatBot/3_3_Torch_nn_FashionMNIST.ipynb#X22sZmlsZQ%3D%3D?line=2'>3</a>\u001b[0m input_img \u001b[39m=\u001b[39m test_data[data_idx][\u001b[39m0\u001b[39m]\u001b[39m.\u001b[39mto(device)\n\u001b[0;32m      <a href='vscode-notebook-cell:/e%3A/%EB%94%A5%EB%9F%AC%EB%8B%9D%ED%8C%8C%EC%9D%B4%ED%86%A0%EC%B9%98%EA%B5%90%EA%B3%BC%EC%84%9C/PyTorch_DL_ChatBot/3_3_Torch_nn_FashionMNIST.ipynb#X22sZmlsZQ%3D%3D?line=3'>4</a>\u001b[0m \u001b[39m#input_img = test_data[data_idx][0]unsqueeze(dim=0)\u001b[39;00m\n\u001b[1;32m----> <a href='vscode-notebook-cell:/e%3A/%EB%94%A5%EB%9F%AC%EB%8B%9D%ED%8C%8C%EC%9D%B4%ED%86%A0%EC%B9%98%EA%B5%90%EA%B3%BC%EC%84%9C/PyTorch_DL_ChatBot/3_3_Torch_nn_FashionMNIST.ipynb#X22sZmlsZQ%3D%3D?line=5'>6</a>\u001b[0m output \u001b[39m=\u001b[39m model\u001b[39m.\u001b[39;49meval(input_img)\n\u001b[0;32m      <a href='vscode-notebook-cell:/e%3A/%EB%94%A5%EB%9F%AC%EB%8B%9D%ED%8C%8C%EC%9D%B4%ED%86%A0%EC%B9%98%EA%B5%90%EA%B3%BC%EC%84%9C/PyTorch_DL_ChatBot/3_3_Torch_nn_FashionMNIST.ipynb#X22sZmlsZQ%3D%3D?line=6'>7</a>\u001b[0m _, argmax \u001b[39m=\u001b[39m torch\u001b[39m.\u001b[39mmax(output, \u001b[39m1\u001b[39m)\n\u001b[0;32m      <a href='vscode-notebook-cell:/e%3A/%EB%94%A5%EB%9F%AC%EB%8B%9D%ED%8C%8C%EC%9D%B4%ED%86%A0%EC%B9%98%EA%B5%90%EA%B3%BC%EC%84%9C/PyTorch_DL_ChatBot/3_3_Torch_nn_FashionMNIST.ipynb#X22sZmlsZQ%3D%3D?line=7'>8</a>\u001b[0m pred \u001b[39m=\u001b[39m label_tags[argmax\u001b[39m.\u001b[39mitem()]\n",
      "\u001b[1;31mTypeError\u001b[0m: eval() takes 1 positional argument but 2 were given"
     ]
    }
   ],
   "source": [
    "for i in range(1, columns*rows+1):\n",
    "    data_idx = np.random.randint(len(test_dataloader))\n",
    "    input_img = test_data[data_idx][0].to(device)\n",
    "    #input_img = test_data[data_idx][0]unsqueeze(dim=0)\n",
    "    \n",
    "    output = model.eval(input_img)\n",
    "    _, argmax = torch.max(output, 1)\n",
    "    pred = label_tags[argmax.item()]\n",
    "    label = label_tags[test_data[data_idx][1]]\n",
    "    \n",
    "    fig.add_subplot(rows, columns, i)\n",
    "    if pred == label:\n",
    "        plt.title(pred + ' , right!')\n",
    "        cmap = 'Blue'\n",
    "    else:\n",
    "        plt.title('Not ' + pred + ' but ' + label)\n",
    "        cmap = 'Reds'\n",
    "        \n",
    "    plot_img = test_data[data_idx][0][0,:,:]\n",
    "    plt.imshow(plot_img, cmap=cmap)\n",
    "    plt.axis('off')\n",
    "plt.show()"
   ]
  },
  {
   "cell_type": "code",
   "execution_count": 57,
   "metadata": {},
   "outputs": [
    {
     "data": {
      "text/plain": [
       "torch.Size([1, 1, 28, 28])"
      ]
     },
     "execution_count": 57,
     "metadata": {},
     "output_type": "execute_result"
    }
   ],
   "source": [
    "test_data[3][0].to(device).unsqueeze(dim=0).shape"
   ]
  },
  {
   "cell_type": "code",
   "execution_count": null,
   "metadata": {},
   "outputs": [],
   "source": []
  },
  {
   "cell_type": "code",
   "execution_count": 36,
   "metadata": {},
   "outputs": [
    {
     "name": "stdout",
     "output_type": "stream",
     "text": [
      "torch.Size([5, 3])\n",
      "\n",
      "tensor([[-1.2075,  0.5493, -0.3856],\n",
      "        [ 0.6910, -0.7424,  0.1570],\n",
      "        [ 0.0721,  1.1055,  0.2218],\n",
      "        [-0.0794, -1.0846, -1.5421],\n",
      "        [ 0.9377, -0.9787,  2.0930]])\n",
      "\n",
      "tensor([0.9377, 1.1055, 2.0930])\n",
      "tensor([4, 2, 4])\n",
      "\n",
      "tensor([-1.2075, -0.7424,  0.0721, -1.5421, -0.9787])\n",
      "tensor([0, 1, 0, 2, 1])\n"
     ]
    }
   ],
   "source": [
    "torch.manual_seed(2023)\n",
    "\n",
    "a = torch.randn(5, 3)\n",
    "print(a.shape)\n",
    "print()\n",
    "print(a)\n",
    "print()\n",
    "\n",
    "val, idx = torch.max(a, 0)\n",
    "print(val)\n",
    "print(idx)\n",
    "print()\n",
    "\n",
    "val, idx = torch.min(a, 1)\n",
    "print(val)\n",
    "print(idx)"
   ]
  },
  {
   "cell_type": "code",
   "execution_count": null,
   "metadata": {},
   "outputs": [],
   "source": []
  }
 ],
 "metadata": {
  "kernelspec": {
   "display_name": "tf_gpu",
   "language": "python",
   "name": "python3"
  },
  "language_info": {
   "codemirror_mode": {
    "name": "ipython",
    "version": 3
   },
   "file_extension": ".py",
   "mimetype": "text/x-python",
   "name": "python",
   "nbconvert_exporter": "python",
   "pygments_lexer": "ipython3",
   "version": "3.9.13"
  },
  "orig_nbformat": 4
 },
 "nbformat": 4,
 "nbformat_minor": 2
}
