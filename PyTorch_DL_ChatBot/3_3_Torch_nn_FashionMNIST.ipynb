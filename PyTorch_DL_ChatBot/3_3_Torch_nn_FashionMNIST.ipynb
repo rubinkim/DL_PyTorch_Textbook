{
 "cells": [
  {
   "cell_type": "code",
   "execution_count": 1,
   "metadata": {},
   "outputs": [],
   "source": [
    "import os\n",
    "import torch\n",
    "from torch import nn\n",
    "from torch.utils.data import DataLoader\n",
    "from torchvision import datasets, transforms"
   ]
  },
  {
   "cell_type": "code",
   "execution_count": 2,
   "metadata": {},
   "outputs": [
    {
     "data": {
      "text/plain": [
       "'cuda'"
      ]
     },
     "execution_count": 2,
     "metadata": {},
     "output_type": "execute_result"
    }
   ],
   "source": [
    "device = 'cuda' if torch.cuda.is_available() else 'cpu'\n",
    "device"
   ]
  },
  {
   "cell_type": "code",
   "execution_count": 3,
   "metadata": {},
   "outputs": [],
   "source": [
    "class NeuralNetwork(nn.Module):\n",
    "    def __init__(self):\n",
    "        super(NeuralNetwork, self).__init__()\n",
    "        self.flatten = nn.Flatten()\n",
    "        self.linear_relu_stack = nn.Sequential(\n",
    "            nn.Linear(28*28, 512),\n",
    "            nn.BatchNorm1d(512),\n",
    "            nn.ReLU(),\n",
    "            nn.Linear(512, 256),\n",
    "            nn.BatchNorm1d(256),\n",
    "            nn.ReLU(),\n",
    "            nn.Linear(256, 64),\n",
    "            nn.BatchNorm1d(64),\n",
    "            nn.ReLU(),\n",
    "            nn.Linear(64, 10)\n",
    "        )\n",
    "        \n",
    "    def forward(self, x):\n",
    "        x = self.flatten(x)\n",
    "        logits = self.linear_relu_stack(x)\n",
    "        return logits"
   ]
  },
  {
   "cell_type": "code",
   "execution_count": 4,
   "metadata": {},
   "outputs": [],
   "source": [
    "training_data = datasets.FashionMNIST(root='data', download=True, train=True, transform=transforms.ToTensor())\n",
    "test_data = datasets.FashionMNIST(root='data', download=True, train=False, transform=transforms.ToTensor())"
   ]
  },
  {
   "cell_type": "code",
   "execution_count": 5,
   "metadata": {},
   "outputs": [],
   "source": [
    "train_dataloader = DataLoader(training_data, batch_size=64)\n",
    "test_dataloader = DataLoader(test_data, batch_size=64)"
   ]
  },
  {
   "cell_type": "code",
   "execution_count": 6,
   "metadata": {},
   "outputs": [
    {
     "data": {
      "text/plain": [
       "(938, 157, 60032, 10048)"
      ]
     },
     "execution_count": 6,
     "metadata": {},
     "output_type": "execute_result"
    }
   ],
   "source": [
    "len(train_dataloader), len(test_dataloader), 938*64, 157*64"
   ]
  },
  {
   "cell_type": "code",
   "execution_count": 7,
   "metadata": {},
   "outputs": [
    {
     "data": {
      "text/plain": [
       "(60000, 10000, 156, 157)"
      ]
     },
     "execution_count": 7,
     "metadata": {},
     "output_type": "execute_result"
    }
   ],
   "source": [
    "len(train_dataloader.dataset), len(test_dataloader.dataset), len(test_dataloader.dataset) // 64, len(test_dataloader)"
   ]
  },
  {
   "cell_type": "code",
   "execution_count": 8,
   "metadata": {},
   "outputs": [
    {
     "name": "stdout",
     "output_type": "stream",
     "text": [
      "NeuralNetwork(\n",
      "  (flatten): Flatten(start_dim=1, end_dim=-1)\n",
      "  (linear_relu_stack): Sequential(\n",
      "    (0): Linear(in_features=784, out_features=512, bias=True)\n",
      "    (1): BatchNorm1d(512, eps=1e-05, momentum=0.1, affine=True, track_running_stats=True)\n",
      "    (2): ReLU()\n",
      "    (3): Linear(in_features=512, out_features=256, bias=True)\n",
      "    (4): BatchNorm1d(256, eps=1e-05, momentum=0.1, affine=True, track_running_stats=True)\n",
      "    (5): ReLU()\n",
      "    (6): Linear(in_features=256, out_features=64, bias=True)\n",
      "    (7): BatchNorm1d(64, eps=1e-05, momentum=0.1, affine=True, track_running_stats=True)\n",
      "    (8): ReLU()\n",
      "    (9): Linear(in_features=64, out_features=10, bias=True)\n",
      "  )\n",
      ")\n"
     ]
    }
   ],
   "source": [
    "model = NeuralNetwork().to(device)\n",
    "print(model)"
   ]
  },
  {
   "cell_type": "code",
   "execution_count": 9,
   "metadata": {},
   "outputs": [],
   "source": [
    "learning_rate, epochs, batch_size = 1e-3, 5, 64"
   ]
  },
  {
   "cell_type": "code",
   "execution_count": 10,
   "metadata": {},
   "outputs": [],
   "source": [
    "loss_fn = nn.CrossEntropyLoss()\n",
    "optimizer = torch.optim.Adam(model.parameters(), lr=learning_rate)"
   ]
  },
  {
   "cell_type": "code",
   "execution_count": 14,
   "metadata": {},
   "outputs": [],
   "source": [
    "def train_loop(dataloader, model, loss_fn, optimizer):\n",
    "    size = len(dataloader.dataset)\n",
    "    for batch, (X, y) in enumerate(dataloader):\n",
    "        X, y = X.to(device), y.to(device)\n",
    "        pred = model(X)\n",
    "        loss = loss_fn(pred, y)\n",
    "        optimizer.zero_grad()\n",
    "        loss.backward()\n",
    "        optimizer.step()\n",
    "        \n",
    "        if batch % 100 == 0:\n",
    "            loss, current = loss.item(), batch * len(X)\n",
    "            print(f\"loss : {loss:>7f}  [{current:>5d} / {size:>5d}]\")"
   ]
  },
  {
   "cell_type": "code",
   "execution_count": 15,
   "metadata": {},
   "outputs": [],
   "source": [
    "def test_loop(dataloader, model, loss_fn):\n",
    "    size = len(dataloader.dataset)\n",
    "    num_batches = len(dataloader)\n",
    "    test_loss, correct = 0, 0\n",
    "    \n",
    "    with torch.no_grad():\n",
    "        for X, y in dataloader:\n",
    "            X, y = X.to(device), y.to(device)\n",
    "            pred = model(X)\n",
    "            loss = loss_fn(pred, y)\n",
    "            test_loss += loss.item()\n",
    "            correct += (pred.argmax(1) == y).type(torch.float).sum().item()\n",
    "            \n",
    "    test_loss /= num_batches\n",
    "    correct /= size\n",
    "    print(f\"Test Error :\\nAccuracy:{(100 * correct):>0.1f}%, Avg loss : {test_loss:>8f}\\n\")"
   ]
  },
  {
   "cell_type": "code",
   "execution_count": 16,
   "metadata": {},
   "outputs": [
    {
     "name": "stdout",
     "output_type": "stream",
     "text": [
      "Epoch 1\n",
      "-----------------------------------------------------------\n",
      "loss : 2.494542  [    0 / 60000]\n",
      "loss : 0.569003  [ 6400 / 60000]\n",
      "loss : 0.414040  [12800 / 60000]\n",
      "loss : 0.521176  [19200 / 60000]\n",
      "loss : 0.449371  [25600 / 60000]\n",
      "loss : 0.411929  [32000 / 60000]\n",
      "loss : 0.313210  [38400 / 60000]\n",
      "loss : 0.473859  [44800 / 60000]\n",
      "loss : 0.404665  [51200 / 60000]\n",
      "loss : 0.429685  [57600 / 60000]\n",
      "Test Error :\n",
      "Accuracy:85.0%, Avg loss : 0.409072\n",
      "\n",
      "Epoch 2\n",
      "-----------------------------------------------------------\n",
      "loss : 0.379758  [    0 / 60000]\n",
      "loss : 0.333252  [ 6400 / 60000]\n",
      "loss : 0.249364  [12800 / 60000]\n",
      "loss : 0.318370  [19200 / 60000]\n",
      "loss : 0.342015  [25600 / 60000]\n",
      "loss : 0.338753  [32000 / 60000]\n",
      "loss : 0.265624  [38400 / 60000]\n",
      "loss : 0.391231  [44800 / 60000]\n",
      "loss : 0.319767  [51200 / 60000]\n",
      "loss : 0.342396  [57600 / 60000]\n",
      "Test Error :\n",
      "Accuracy:85.9%, Avg loss : 0.380218\n",
      "\n",
      "Epoch 3\n",
      "-----------------------------------------------------------\n",
      "loss : 0.274174  [    0 / 60000]\n",
      "loss : 0.274312  [ 6400 / 60000]\n",
      "loss : 0.230401  [12800 / 60000]\n",
      "loss : 0.268089  [19200 / 60000]\n",
      "loss : 0.319101  [25600 / 60000]\n",
      "loss : 0.293526  [32000 / 60000]\n",
      "loss : 0.255080  [38400 / 60000]\n",
      "loss : 0.346527  [44800 / 60000]\n",
      "loss : 0.272225  [51200 / 60000]\n",
      "loss : 0.330325  [57600 / 60000]\n",
      "Test Error :\n",
      "Accuracy:86.9%, Avg loss : 0.361550\n",
      "\n",
      "Epoch 4\n",
      "-----------------------------------------------------------\n",
      "loss : 0.226352  [    0 / 60000]\n",
      "loss : 0.261323  [ 6400 / 60000]\n",
      "loss : 0.217802  [12800 / 60000]\n",
      "loss : 0.233307  [19200 / 60000]\n",
      "loss : 0.265577  [25600 / 60000]\n",
      "loss : 0.257125  [32000 / 60000]\n",
      "loss : 0.222847  [38400 / 60000]\n",
      "loss : 0.329408  [44800 / 60000]\n",
      "loss : 0.266197  [51200 / 60000]\n",
      "loss : 0.299320  [57600 / 60000]\n",
      "Test Error :\n",
      "Accuracy:87.3%, Avg loss : 0.360910\n",
      "\n",
      "Epoch 5\n",
      "-----------------------------------------------------------\n",
      "loss : 0.224751  [    0 / 60000]\n",
      "loss : 0.219310  [ 6400 / 60000]\n",
      "loss : 0.214612  [12800 / 60000]\n",
      "loss : 0.200795  [19200 / 60000]\n",
      "loss : 0.244349  [25600 / 60000]\n",
      "loss : 0.224991  [32000 / 60000]\n",
      "loss : 0.203641  [38400 / 60000]\n",
      "loss : 0.284134  [44800 / 60000]\n",
      "loss : 0.241294  [51200 / 60000]\n",
      "loss : 0.243893  [57600 / 60000]\n",
      "Test Error :\n",
      "Accuracy:87.5%, Avg loss : 0.361675\n",
      "\n",
      "Done!\n"
     ]
    }
   ],
   "source": [
    "for t in range(epochs):\n",
    "    print(f\"Epoch {t+1}\\n-----------------------------------------------------------\")\n",
    "    train_loop(train_dataloader, model, loss_fn, optimizer)\n",
    "    test_loop(test_dataloader, model, loss_fn)\n",
    "print(\"Done!\")"
   ]
  },
  {
   "cell_type": "code",
   "execution_count": null,
   "metadata": {},
   "outputs": [],
   "source": []
  }
 ],
 "metadata": {
  "kernelspec": {
   "display_name": "tf_gpu",
   "language": "python",
   "name": "python3"
  },
  "language_info": {
   "codemirror_mode": {
    "name": "ipython",
    "version": 3
   },
   "file_extension": ".py",
   "mimetype": "text/x-python",
   "name": "python",
   "nbconvert_exporter": "python",
   "pygments_lexer": "ipython3",
   "version": "3.9.13"
  },
  "orig_nbformat": 4
 },
 "nbformat": 4,
 "nbformat_minor": 2
}
