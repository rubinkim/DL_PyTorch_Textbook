{
 "cells": [
  {
   "cell_type": "code",
   "execution_count": 6,
   "metadata": {},
   "outputs": [],
   "source": [
    "import torch\n",
    "import torch.nn as nn"
   ]
  },
  {
   "cell_type": "code",
   "execution_count": 3,
   "metadata": {},
   "outputs": [
    {
     "name": "stdout",
     "output_type": "stream",
     "text": [
      "y를 W로 미분한 값 : 39.0\n"
     ]
    }
   ],
   "source": [
    "W = torch.tensor(3.0, requires_grad=True)\n",
    "y = W ** 3 + 2 * W ** 2 + 7\n",
    "\n",
    "y.backward()\n",
    "print(f\"y를 W로 미분한 값 : {W.grad}\")"
   ]
  },
  {
   "cell_type": "code",
   "execution_count": 4,
   "metadata": {},
   "outputs": [],
   "source": [
    "x = torch.ones(5)  # 입력 tensor\n",
    "y = torch.zeros(3)  # 정답 tensor\n",
    "w = torch.randn(5, 3, requires_grad=True)\n",
    "b = torch.randn(3, requires_grad=True)\n",
    "z = torch.matmul(x, w)+b\n",
    "loss = torch.nn.functional.binary_cross_entropy_with_logits(z, y)"
   ]
  },
  {
   "cell_type": "code",
   "execution_count": 5,
   "metadata": {},
   "outputs": [
    {
     "name": "stdout",
     "output_type": "stream",
     "text": [
      "tensor([[0.3116, 0.3142, 0.0904],\n",
      "        [0.3116, 0.3142, 0.0904],\n",
      "        [0.3116, 0.3142, 0.0904],\n",
      "        [0.3116, 0.3142, 0.0904],\n",
      "        [0.3116, 0.3142, 0.0904]])\n",
      "tensor([0.3116, 0.3142, 0.0904])\n"
     ]
    }
   ],
   "source": [
    "loss.backward()\n",
    "print(w.grad)\n",
    "print(b.grad)"
   ]
  },
  {
   "cell_type": "code",
   "execution_count": 7,
   "metadata": {},
   "outputs": [],
   "source": [
    "x = torch.ones(5)  # 입력\n",
    "y = torch.zeros(3)  # 출력\n",
    "\n",
    "w = torch.randn(5, 3, requires_grad=True) # 가중치\n",
    "b = torch.randn(3, requires_grad=True) # 편향\n",
    "\n",
    "z = torch.matmul(x, w) + b\n",
    "loss_fn = nn.MSELoss() # 손실 함수"
   ]
  },
  {
   "cell_type": "code",
   "execution_count": 8,
   "metadata": {},
   "outputs": [
    {
     "name": "stdout",
     "output_type": "stream",
     "text": [
      "tensor([[ 0.3690,  0.4638, -0.4972],\n",
      "        [ 0.3690,  0.4638, -0.4972],\n",
      "        [ 0.3690,  0.4638, -0.4972],\n",
      "        [ 0.3690,  0.4638, -0.4972],\n",
      "        [ 0.3690,  0.4638, -0.4972]])\n",
      "tensor([ 0.3690,  0.4638, -0.4972])\n"
     ]
    }
   ],
   "source": [
    "loss = loss_fn(z, y)\n",
    "loss.backward()\n",
    "\n",
    "print(w.grad)\n",
    "print(b.grad)"
   ]
  },
  {
   "cell_type": "code",
   "execution_count": 9,
   "metadata": {},
   "outputs": [
    {
     "name": "stdout",
     "output_type": "stream",
     "text": [
      "True\n",
      "False\n"
     ]
    }
   ],
   "source": [
    "z = torch.matmul(x, w)+b\n",
    "print(z.requires_grad)\n",
    "\n",
    "with torch.no_grad():\n",
    "    z = torch.matmul(x, w)+b\n",
    "print(z.requires_grad)"
   ]
  },
  {
   "cell_type": "code",
   "execution_count": 10,
   "metadata": {},
   "outputs": [
    {
     "name": "stdout",
     "output_type": "stream",
     "text": [
      "False\n"
     ]
    }
   ],
   "source": [
    "z = torch.matmul(x, w)+b\n",
    "z_det = z.detach()\n",
    "print(z_det.requires_grad)"
   ]
  }
 ],
 "metadata": {
  "kernelspec": {
   "display_name": "tf_gpu",
   "language": "python",
   "name": "python3"
  },
  "language_info": {
   "codemirror_mode": {
    "name": "ipython",
    "version": 3
   },
   "file_extension": ".py",
   "mimetype": "text/x-python",
   "name": "python",
   "nbconvert_exporter": "python",
   "pygments_lexer": "ipython3",
   "version": "3.9.13"
  },
  "orig_nbformat": 4
 },
 "nbformat": 4,
 "nbformat_minor": 2
}
