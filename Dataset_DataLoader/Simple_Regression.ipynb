{
 "cells": [
  {
   "attachments": {},
   "cell_type": "markdown",
   "metadata": {},
   "source": [
    "##### 가장 기초적인 방법의 선형회귀"
   ]
  },
  {
   "cell_type": "code",
   "execution_count": 1,
   "metadata": {},
   "outputs": [
    {
     "data": {
      "text/plain": [
       "<torch._C.Generator at 0x1d014f874b0>"
      ]
     },
     "execution_count": 1,
     "metadata": {},
     "output_type": "execute_result"
    }
   ],
   "source": [
    "import torch\n",
    "import torch.nn as nn\n",
    "import torch.nn.functional as F\n",
    "import torch.optim as optim\n",
    "\n",
    "# 재사용을 위해 랜덤값을 초기화합니다.\n",
    "torch.manual_seed(2023)    "
   ]
  },
  {
   "cell_type": "code",
   "execution_count": 18,
   "metadata": {},
   "outputs": [],
   "source": [
    "x_train = torch.FloatTensor([[1,3],[2,6],[3,9]])\n",
    "y_train = torch.FloatTensor([[3],[6],[9]])"
   ]
  },
  {
   "cell_type": "code",
   "execution_count": 19,
   "metadata": {},
   "outputs": [
    {
     "name": "stdout",
     "output_type": "stream",
     "text": [
      "0.0 0.0 0.0\n"
     ]
    }
   ],
   "source": [
    "W = torch.zeros(2, requires_grad=True)\n",
    "b = torch.zeros(1, requires_grad=True)\n",
    "\n",
    "print(W[0].item(), W[1].item(), b.item())"
   ]
  },
  {
   "cell_type": "code",
   "execution_count": 9,
   "metadata": {},
   "outputs": [
    {
     "name": "stdout",
     "output_type": "stream",
     "text": [
      "tensor([0., 0., 0.], grad_fn=<AddBackward0>)\n"
     ]
    }
   ],
   "source": [
    "hypothesis = torch.matmul(x_train, W) + b\n",
    "print(hypothesis)"
   ]
  },
  {
   "cell_type": "code",
   "execution_count": 20,
   "metadata": {},
   "outputs": [],
   "source": [
    "cost = torch.mean((hypothesis - y_train) ** 2)\n",
    "optimizer = optim.SGD([W, b], lr=0.01)"
   ]
  },
  {
   "cell_type": "code",
   "execution_count": 21,
   "metadata": {},
   "outputs": [
    {
     "name": "stdout",
     "output_type": "stream",
     "text": [
      "Epoch:   0,  Cost:42.000000,  W_0:0.240,  W_1:0.720,  b:0.120\n",
      "Epoch: 100,  Cost:8.826853,  W_0:0.191,  W_1:0.572,  b:1.564\n",
      "Epoch: 200,  Cost:7.611690,  W_0:0.144,  W_1:0.432,  b:2.651\n",
      "Epoch: 300,  Cost:6.918883,  W_0:0.109,  W_1:0.326,  b:3.471\n",
      "Epoch: 400,  Cost:6.523889,  W_0:0.082,  W_1:0.246,  b:4.090\n",
      "Epoch: 500,  Cost:6.298689,  W_0:0.062,  W_1:0.186,  b:4.558\n",
      "Epoch: 600,  Cost:6.170293,  W_0:0.047,  W_1:0.140,  b:4.911\n",
      "Epoch: 700,  Cost:6.097090,  W_0:0.035,  W_1:0.106,  b:5.178\n",
      "Epoch: 800,  Cost:6.055355,  W_0:0.027,  W_1:0.080,  b:5.379\n",
      "Epoch: 900,  Cost:6.031559,  W_0:0.020,  W_1:0.060,  b:5.531\n",
      "Epoch:1000,  Cost:6.017994,  W_0:0.015,  W_1:0.046,  b:5.646\n"
     ]
    }
   ],
   "source": [
    "nb_epochs = 1000\n",
    "for epoch in range(nb_epochs+1):\n",
    "    hypothesis = torch.matmul(x_train, W) + b\n",
    "    cost = torch.mean((hypothesis - y_train) ** 2)\n",
    "    \n",
    "    # cost로 H(x)개선\n",
    "    optimizer.zero_grad()\n",
    "    cost.backward()\n",
    "    optimizer.step()\n",
    "    \n",
    "    # 100번마다 로그출력\n",
    "    if not (epoch % 100):\n",
    "        print(f\"Epoch:{epoch:4d},  Cost:{cost.item():.6f},  W_0:{W[0].item():.3f},  W_1:{W[1].item():.3f},  b:{b.item():.3f}\")"
   ]
  },
  {
   "cell_type": "code",
   "execution_count": null,
   "metadata": {},
   "outputs": [],
   "source": []
  },
  {
   "cell_type": "code",
   "execution_count": null,
   "metadata": {},
   "outputs": [],
   "source": []
  },
  {
   "cell_type": "code",
   "execution_count": null,
   "metadata": {},
   "outputs": [],
   "source": []
  },
  {
   "cell_type": "code",
   "execution_count": null,
   "metadata": {},
   "outputs": [],
   "source": []
  },
  {
   "cell_type": "code",
   "execution_count": null,
   "metadata": {},
   "outputs": [],
   "source": []
  }
 ],
 "metadata": {
  "kernelspec": {
   "display_name": "tf_gpu",
   "language": "python",
   "name": "python3"
  },
  "language_info": {
   "codemirror_mode": {
    "name": "ipython",
    "version": 3
   },
   "file_extension": ".py",
   "mimetype": "text/x-python",
   "name": "python",
   "nbconvert_exporter": "python",
   "pygments_lexer": "ipython3",
   "version": "3.9.13"
  },
  "orig_nbformat": 4
 },
 "nbformat": 4,
 "nbformat_minor": 2
}
