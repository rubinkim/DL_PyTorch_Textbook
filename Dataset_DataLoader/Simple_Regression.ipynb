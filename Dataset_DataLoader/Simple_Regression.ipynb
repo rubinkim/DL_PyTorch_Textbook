{
 "cells": [
  {
   "attachments": {},
   "cell_type": "markdown",
   "metadata": {},
   "source": [
    "##### 가장 기초적인 방법의 선형회귀"
   ]
  },
  {
   "cell_type": "code",
   "execution_count": 1,
   "metadata": {},
   "outputs": [
    {
     "data": {
      "text/plain": [
       "<torch._C.Generator at 0x298545e0490>"
      ]
     },
     "execution_count": 1,
     "metadata": {},
     "output_type": "execute_result"
    }
   ],
   "source": [
    "import torch\n",
    "import torch.nn as nn\n",
    "import torch.nn.functional as F\n",
    "import torch.optim as optim\n",
    "\n",
    "# 재사용을 위해 랜덤값을 초기화합니다.\n",
    "torch.manual_seed(2023)    "
   ]
  },
  {
   "cell_type": "code",
   "execution_count": 14,
   "metadata": {},
   "outputs": [],
   "source": [
    "x_train = torch.FloatTensor([[1,3],[2,6],[3,9]])\n",
    "y_train = torch.FloatTensor([[3],[6],[9]])"
   ]
  },
  {
   "cell_type": "code",
   "execution_count": 15,
   "metadata": {},
   "outputs": [
    {
     "data": {
      "text/plain": [
       "(tensor([[0.],\n",
       "         [0.]], requires_grad=True),\n",
       " tensor([0.], requires_grad=True))"
      ]
     },
     "execution_count": 15,
     "metadata": {},
     "output_type": "execute_result"
    }
   ],
   "source": [
    "W = torch.zeros(size=(2,1), requires_grad=True)\n",
    "b = torch.zeros(size=(1,), requires_grad=True)\n",
    "W, b"
   ]
  },
  {
   "cell_type": "code",
   "execution_count": 16,
   "metadata": {},
   "outputs": [
    {
     "name": "stdout",
     "output_type": "stream",
     "text": [
      "tensor([[0.],\n",
      "        [0.],\n",
      "        [0.]], grad_fn=<AddBackward0>)\n"
     ]
    }
   ],
   "source": [
    "hypothesis = torch.matmul(x_train, W) + b\n",
    "print(hypothesis)"
   ]
  },
  {
   "cell_type": "code",
   "execution_count": 17,
   "metadata": {},
   "outputs": [],
   "source": [
    "cost = torch.mean((hypothesis - y_train) ** 2)\n",
    "optimizer = optim.SGD([W, b], lr=0.01)"
   ]
  },
  {
   "cell_type": "code",
   "execution_count": 20,
   "metadata": {},
   "outputs": [
    {
     "name": "stdout",
     "output_type": "stream",
     "text": [
      "Epoch:   0,  Cost:0.000008,  W_0:0.300,  W_1:0.899,  b:0.008\n",
      "Epoch: 100,  Cost:0.000005,  W_0:0.300,  W_1:0.899,  b:0.006\n",
      "Epoch: 200,  Cost:0.000003,  W_0:0.300,  W_1:0.899,  b:0.004\n",
      "Epoch: 300,  Cost:0.000002,  W_0:0.300,  W_1:0.900,  b:0.003\n",
      "Epoch: 400,  Cost:0.000001,  W_0:0.300,  W_1:0.900,  b:0.002\n",
      "Epoch: 500,  Cost:0.000000,  W_0:0.300,  W_1:0.900,  b:0.002\n",
      "Epoch: 600,  Cost:0.000000,  W_0:0.300,  W_1:0.900,  b:0.001\n",
      "Epoch: 700,  Cost:0.000000,  W_0:0.300,  W_1:0.900,  b:0.001\n",
      "Epoch: 800,  Cost:0.000000,  W_0:0.300,  W_1:0.900,  b:0.001\n",
      "Epoch: 900,  Cost:0.000000,  W_0:0.300,  W_1:0.900,  b:0.001\n",
      "Epoch:1000,  Cost:0.000000,  W_0:0.300,  W_1:0.900,  b:0.000\n"
     ]
    }
   ],
   "source": [
    "nb_epochs = 1000\n",
    "for epoch in range(nb_epochs+1):\n",
    "    hypothesis = torch.matmul(x_train, W) + b\n",
    "    cost = torch.mean((hypothesis - y_train) ** 2)\n",
    "    \n",
    "    # cost로 H(x)개선\n",
    "    optimizer.zero_grad()\n",
    "    cost.backward()\n",
    "    optimizer.step()\n",
    "    \n",
    "    # 100번마다 로그출력\n",
    "    if not (epoch % 100):\n",
    "        print(f\"Epoch:{epoch:4d},  Cost:{cost.item():.6f},  W_0:{W[0].item():.3f},  W_1:{W[1].item():.3f},  b:{b.item():.3f}\")"
   ]
  },
  {
   "cell_type": "code",
   "execution_count": null,
   "metadata": {},
   "outputs": [],
   "source": []
  },
  {
   "cell_type": "code",
   "execution_count": null,
   "metadata": {},
   "outputs": [],
   "source": []
  },
  {
   "cell_type": "code",
   "execution_count": null,
   "metadata": {},
   "outputs": [],
   "source": []
  },
  {
   "cell_type": "code",
   "execution_count": null,
   "metadata": {},
   "outputs": [],
   "source": []
  },
  {
   "cell_type": "code",
   "execution_count": null,
   "metadata": {},
   "outputs": [],
   "source": []
  }
 ],
 "metadata": {
  "kernelspec": {
   "display_name": "tf_gpu",
   "language": "python",
   "name": "python3"
  },
  "language_info": {
   "codemirror_mode": {
    "name": "ipython",
    "version": 3
   },
   "file_extension": ".py",
   "mimetype": "text/x-python",
   "name": "python",
   "nbconvert_exporter": "python",
   "pygments_lexer": "ipython3",
   "version": "3.9.13"
  },
  "orig_nbformat": 4
 },
 "nbformat": 4,
 "nbformat_minor": 2
}
